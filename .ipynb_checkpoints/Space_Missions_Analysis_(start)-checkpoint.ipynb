{
 "nbformat": 4,
 "nbformat_minor": 0,
 "metadata": {
  "kernelspec": {
   "display_name": "Python 3",
   "language": "python",
   "name": "python3"
  },
  "language_info": {
   "codemirror_mode": {
    "name": "ipython",
    "version": 3
   },
   "file_extension": ".py",
   "mimetype": "text/x-python",
   "name": "python",
   "nbconvert_exporter": "python",
   "pygments_lexer": "ipython3",
   "version": "3.7.9"
  },
  "papermill": {
   "duration": 28.468597,
   "end_time": "2020-10-20T21:34:26.910951",
   "environment_variables": {},
   "exception": null,
   "input_path": "__notebook__.ipynb",
   "output_path": "__notebook__.ipynb",
   "parameters": {},
   "start_time": "2020-10-20T21:33:58.442354",
   "version": "2.1.0"
  },
  "colab": {
   "name": "Space Missions Analysis (start).ipynb",
   "provenance": []
  }
 },
 "cells": [
  {
   "cell_type": "markdown",
   "metadata": {
    "id": "ka_FkvXBiABo"
   },
   "source": "# 소개"
  },
  {
   "cell_type": "markdown",
   "metadata": {
    "papermill": {
     "duration": 0.035434,
     "end_time": "2020-10-20T21:34:01.886225",
     "exception": false,
     "start_time": "2020-10-20T21:34:01.850791",
     "status": "completed"
    },
    "tags": [],
    "id": "AWaMmfxXa-p0"
   },
   "source": [
    "<center><img src=\"https://i.imgur.com/9hLRsjZ.jpg\" height=400></center>\n",
    "\n",
    "이 데이터셋은 [nextspaceflight.com](https://nextspaceflight.com/launches/past/?page=1)에서 수집되었음.\n",
    "<br>\n",
    "1957년 미국과 소련 간 우주 경쟁이 시작된 이후의 모든 우주 임무가 포함되어 있음."
   ]
  },
  {
   "cell_type": "markdown",
   "metadata": {
    "id": "ufzKRKS3bV0r"
   },
   "source": "### 국가 코드 패키지 설치"
  },
  {
   "cell_type": "code",
   "metadata": {
    "id": "0HxV9o6dbRUE",
    "outputId": "35464d43-d601-4b8f-81fd-6dbd400167f5",
    "colab": {
     "base_uri": "https://localhost:8080/"
    },
    "ExecuteTime": {
     "end_time": "2025-03-04T05:26:41.536267Z",
     "start_time": "2025-03-04T05:26:33.541558Z"
    }
   },
   "source": [
    "%pip install iso3166"
   ],
   "outputs": [
    {
     "name": "stdout",
     "output_type": "stream",
     "text": [
      "Requirement already satisfied: iso3166 in c:\\users\\gram\\technical python project\\.venv\\lib\\site-packages (2.1.1)\n",
      "Note: you may need to restart the kernel to use updated packages.\n"
     ]
    }
   ],
   "execution_count": 22
  },
  {
   "cell_type": "markdown",
   "metadata": {
    "id": "sghkhFoLbof8"
   },
   "source": [
    "### Plotly 업그레이드\n",
    "\n",
    "Google Colab을 사용 중이라면 아래의 셀을 실행하세요."
   ]
  },
  {
   "cell_type": "code",
   "metadata": {
    "id": "gQ61wy9gbmxd",
    "outputId": "99185d87-acb8-4237-c0f7-bfb18bfd4d39",
    "colab": {
     "base_uri": "https://localhost:8080/"
    },
    "ExecuteTime": {
     "end_time": "2025-03-04T05:26:47.424278Z",
     "start_time": "2025-03-04T05:26:41.646724Z"
    }
   },
   "source": [
    "%pip install --upgrade plotly"
   ],
   "outputs": [
    {
     "name": "stdout",
     "output_type": "stream",
     "text": [
      "Requirement already satisfied: plotly in c:\\users\\gram\\technical python project\\.venv\\lib\\site-packages (6.0.0)\n",
      "Requirement already satisfied: narwhals>=1.15.1 in c:\\users\\gram\\technical python project\\.venv\\lib\\site-packages (from plotly) (1.25.0)\n",
      "Requirement already satisfied: packaging in c:\\users\\gram\\technical python project\\.venv\\lib\\site-packages (from plotly) (24.2)\n",
      "Note: you may need to restart the kernel to use updated packages.\n"
     ]
    }
   ],
   "execution_count": 23
  },
  {
   "cell_type": "markdown",
   "metadata": {
    "id": "ErFDBihUi1jN"
   },
   "source": "### 라이브러리 블러오기 (Import Statements)"
  },
  {
   "cell_type": "code",
   "metadata": {
    "_cell_guid": "b1076dfc-b9ad-4769-8c92-a6c4dae69d19",
    "_kg_hide-input": true,
    "_kg_hide-output": true,
    "_uuid": "8f2839f25d086af736a60e9eeb907d3b93b6e0e5",
    "execution": {
     "iopub.execute_input": "2020-10-20T21:34:02.101551Z",
     "iopub.status.busy": "2020-10-20T21:34:02.101085Z",
     "iopub.status.idle": "2020-10-20T21:34:03.726868Z",
     "shell.execute_reply": "2020-10-20T21:34:03.725783Z"
    },
    "papermill": {
     "duration": 1.665326,
     "end_time": "2020-10-20T21:34:03.726995",
     "exception": false,
     "start_time": "2020-10-20T21:34:02.061669",
     "status": "completed"
    },
    "tags": [],
    "id": "xdolY0-Sa-p1",
    "outputId": "7142dedb-82e9-457d-db44-cea4e121bdfe",
    "colab": {
     "base_uri": "https://localhost:8080/"
    },
    "ExecuteTime": {
     "end_time": "2025-03-04T05:26:47.510055Z",
     "start_time": "2025-03-04T05:26:47.496158Z"
    }
   },
   "source": [
    "import numpy as np\n",
    "import pandas as pd\n",
    "import plotly.express as px\n",
    "import matplotlib.pyplot as plt\n",
    "import seaborn as sns\n",
    "\n",
    "# These might be helpful:\n",
    "from iso3166 import countries\n",
    "from datetime import datetime, timedelta"
   ],
   "outputs": [],
   "execution_count": 24
  },
  {
   "metadata": {},
   "cell_type": "markdown",
   "source": ""
  },
  {
   "cell_type": "markdown",
   "metadata": {
    "id": "lovGPRgKxIgo"
   },
   "source": "### 노트북 출력 설정 (Notebook Presentation)"
  },
  {
   "cell_type": "code",
   "metadata": {
    "id": "DHEULCOjxIIm",
    "ExecuteTime": {
     "end_time": "2025-03-04T05:26:47.556202Z",
     "start_time": "2025-03-04T05:26:47.544512Z"
    }
   },
   "source": [
    "pd.options.display.float_format = '{:,.2f}'.format"
   ],
   "outputs": [],
   "execution_count": 25
  },
  {
   "cell_type": "markdown",
   "metadata": {
    "papermill": {
     "duration": 0.034606,
     "end_time": "2020-10-20T21:34:03.798396",
     "exception": false,
     "start_time": "2020-10-20T21:34:03.763790",
     "status": "completed"
    },
    "tags": [],
    "id": "yaT3QbjEa-p4"
   },
   "source": "### 데이터 불러오기 (Load the Data)"
  },
  {
   "cell_type": "code",
   "metadata": {
    "_cell_guid": "79c7e3d0-c299-4dcb-8224-4455121ee9b0",
    "_kg_hide-input": true,
    "_uuid": "d629ff2d2480ee46fbb7e2d37f6b5fab8052498a",
    "execution": {
     "iopub.execute_input": "2020-10-20T21:34:03.874195Z",
     "iopub.status.busy": "2020-10-20T21:34:03.873775Z",
     "iopub.status.idle": "2020-10-20T21:34:03.921919Z",
     "shell.execute_reply": "2020-10-20T21:34:03.921418Z"
    },
    "papermill": {
     "duration": 0.08876,
     "end_time": "2020-10-20T21:34:03.922028",
     "exception": false,
     "start_time": "2020-10-20T21:34:03.833268",
     "status": "completed"
    },
    "tags": [],
    "id": "0lDOu8aka-p4",
    "ExecuteTime": {
     "end_time": "2025-03-04T05:26:47.663660Z",
     "start_time": "2025-03-04T05:26:47.594411Z"
    }
   },
   "source": "df_data = pd.read_csv('mission_launches.csv')",
   "outputs": [],
   "execution_count": 26
  },
  {
   "cell_type": "markdown",
   "metadata": {
    "id": "jAnMiVcVjuKB"
   },
   "source": [
    "# 데이터 탐색 (Preliminary Data Exploration)\n",
    "\n",
    "* `df_data`의 형태는 어떠한가? (What is the shape of `df_data`? )\n",
    "* 몇 개의 행과 열이 있는가? (How many rows and columns does it have?)\n",
    "* 열(Column) 이름은 무엇인가? (What are the column names?)\n",
    "* 결측치(NaN) 또는 중복 데이터가 존재하는가? (Are there any NaN values or duplicates?)"
   ]
  },
  {
   "cell_type": "code",
   "metadata": {
    "id": "0tIuYcYNlPFQ",
    "ExecuteTime": {
     "end_time": "2025-03-04T05:26:47.736756Z",
     "start_time": "2025-03-04T05:26:47.695986Z"
    }
   },
   "source": [
    "# 데이터의 기본 정보 확인\n",
    "df_data.info()"
   ],
   "outputs": [
    {
     "name": "stdout",
     "output_type": "stream",
     "text": [
      "<class 'pandas.core.frame.DataFrame'>\n",
      "RangeIndex: 4324 entries, 0 to 4323\n",
      "Data columns (total 9 columns):\n",
      " #   Column          Non-Null Count  Dtype \n",
      "---  ------          --------------  ----- \n",
      " 0   Unnamed: 0.1    4324 non-null   int64 \n",
      " 1   Unnamed: 0      4324 non-null   int64 \n",
      " 2   Organisation    4324 non-null   object\n",
      " 3   Location        4324 non-null   object\n",
      " 4   Date            4324 non-null   object\n",
      " 5   Detail          4324 non-null   object\n",
      " 6   Rocket_Status   4324 non-null   object\n",
      " 7   Price           964 non-null    object\n",
      " 8   Mission_Status  4324 non-null   object\n",
      "dtypes: int64(2), object(7)\n",
      "memory usage: 304.2+ KB\n"
     ]
    }
   ],
   "execution_count": 27
  },
  {
   "metadata": {},
   "cell_type": "markdown",
   "source": [
    "- 9개의 컬럼이 있으며, Price값만 964개의 값이 존재하여 나머지는 결측값에 포함됨\n",
    "<br>\n",
    "- Unnamed 열이 하나가 불필요해보임"
   ]
  },
  {
   "cell_type": "code",
   "metadata": {
    "id": "0dw2hd9UlPmP",
    "ExecuteTime": {
     "end_time": "2025-03-04T05:26:47.854420Z",
     "start_time": "2025-03-04T05:26:47.838058Z"
    }
   },
   "source": [
    "# 데이터프레임의 크기(행, 열) 확인\n",
    "df_data.shape"
   ],
   "outputs": [
    {
     "data": {
      "text/plain": [
       "(4324, 9)"
      ]
     },
     "execution_count": 28,
     "metadata": {},
     "output_type": "execute_result"
    }
   ],
   "execution_count": 28
  },
  {
   "metadata": {},
   "cell_type": "markdown",
   "source": "- 4324개의 행/ 9개의 열"
  },
  {
   "metadata": {
    "ExecuteTime": {
     "end_time": "2025-03-04T05:26:47.986280Z",
     "start_time": "2025-03-04T05:26:47.970285Z"
    }
   },
   "cell_type": "code",
   "source": [
    "# 컬럼명 확인\n",
    "df_data.columns"
   ],
   "outputs": [
    {
     "data": {
      "text/plain": [
       "Index(['Unnamed: 0.1', 'Unnamed: 0', 'Organisation', 'Location', 'Date',\n",
       "       'Detail', 'Rocket_Status', 'Price', 'Mission_Status'],\n",
       "      dtype='object')"
      ]
     },
     "execution_count": 29,
     "metadata": {},
     "output_type": "execute_result"
    }
   ],
   "execution_count": 29
  },
  {
   "metadata": {
    "ExecuteTime": {
     "end_time": "2025-03-04T05:26:48.188666Z",
     "start_time": "2025-03-04T05:26:48.164852Z"
    }
   },
   "cell_type": "code",
   "source": [
    "# 결측치(NaN) 확인\n",
    "df_data.isnull().sum()"
   ],
   "outputs": [
    {
     "data": {
      "text/plain": [
       "Unnamed: 0.1         0\n",
       "Unnamed: 0           0\n",
       "Organisation         0\n",
       "Location             0\n",
       "Date                 0\n",
       "Detail               0\n",
       "Rocket_Status        0\n",
       "Price             3360\n",
       "Mission_Status       0\n",
       "dtype: int64"
      ]
     },
     "execution_count": 30,
     "metadata": {},
     "output_type": "execute_result"
    }
   ],
   "execution_count": 30
  },
  {
   "metadata": {},
   "cell_type": "markdown",
   "source": [
    "- Price 컬럼에 3360개의 결측치 존재\n",
    "<br>\n",
    "- 나머지 컬럼은 결측값 없음"
   ]
  },
  {
   "metadata": {
    "ExecuteTime": {
     "end_time": "2025-03-04T05:26:48.507421Z",
     "start_time": "2025-03-04T05:26:48.460929Z"
    }
   },
   "cell_type": "code",
   "source": [
    "# 중복 데이터 확인\n",
    "df_data.duplicated().sum()"
   ],
   "outputs": [
    {
     "data": {
      "text/plain": [
       "np.int64(0)"
      ]
     },
     "execution_count": 31,
     "metadata": {},
     "output_type": "execute_result"
    }
   ],
   "execution_count": 31
  },
  {
   "metadata": {},
   "cell_type": "markdown",
   "source": "- 중복데이터 없음"
  },
  {
   "cell_type": "markdown",
   "metadata": {
    "papermill": {
     "duration": 0.05406,
     "end_time": "2020-10-20T21:34:04.149973",
     "exception": false,
     "start_time": "2020-10-20T21:34:04.095913",
     "status": "completed"
    },
    "tags": [],
    "id": "KUN30y6ja-p9"
   },
   "source": [
    "## 데이터 정리 (Data Cleaning) - 결측치 및 중복 데이터 확인 (Check for Missing Values and Duplicates)\n",
    "\n",
    "불필요한 데이터가 포함된 열을 제거"
   ]
  },
  {
   "cell_type": "code",
   "metadata": {
    "id": "wWQvnJb0k2Ig",
    "ExecuteTime": {
     "end_time": "2025-03-04T05:29:28.026294Z",
     "start_time": "2025-03-04T05:29:27.923943Z"
    }
   },
   "source": [
    "## 중복된 열을 제거\n",
    "## header=0을 명시적으로 지정하여 올바른 헤더 사용\n",
    "df_data = pd.read_csv(\"mission_launches.csv\", index_col=0, header=0)\n",
    "\n",
    "df_data.info()"
   ],
   "outputs": [
    {
     "name": "stdout",
     "output_type": "stream",
     "text": [
      "<class 'pandas.core.frame.DataFrame'>\n",
      "Index: 4324 entries, 0 to 4323\n",
      "Data columns (total 8 columns):\n",
      " #   Column          Non-Null Count  Dtype \n",
      "---  ------          --------------  ----- \n",
      " 0   Unnamed: 0      4324 non-null   int64 \n",
      " 1   Organisation    4324 non-null   object\n",
      " 2   Location        4324 non-null   object\n",
      " 3   Date            4324 non-null   object\n",
      " 4   Detail          4324 non-null   object\n",
      " 5   Rocket_Status   4324 non-null   object\n",
      " 6   Price           964 non-null    object\n",
      " 7   Mission_Status  4324 non-null   object\n",
      "dtypes: int64(1), object(7)\n",
      "memory usage: 304.0+ KB\n"
     ]
    }
   ],
   "execution_count": 36
  },
  {
   "cell_type": "code",
   "metadata": {
    "id": "SfxVooCYk2As",
    "ExecuteTime": {
     "end_time": "2025-03-04T06:07:07.344202Z",
     "start_time": "2025-03-04T06:07:07.334657Z"
    }
   },
   "source": [
    "df_data['Price'] = pd.to_numeric(df_data['Price'], errors='coerce')\n",
    "df_data['Price'] = df_data['Price'].fillna(df_data['Price'].median())\n",
    "\n",
    "# 결측치(NaN) 확인\n",
    "df_data.isnull().sum()"
   ],
   "outputs": [
    {
     "data": {
      "text/plain": [
       "Unnamed: 0        0\n",
       "Organisation      0\n",
       "Location          0\n",
       "Date              0\n",
       "Detail            0\n",
       "Rocket_Status     0\n",
       "Price             0\n",
       "Mission_Status    0\n",
       "dtype: int64"
      ]
     },
     "execution_count": 40,
     "metadata": {},
     "output_type": "execute_result"
    }
   ],
   "execution_count": 40
  },
  {
   "cell_type": "markdown",
   "metadata": {
    "papermill": {
     "duration": 0.036712,
     "end_time": "2020-10-20T21:34:05.227032",
     "exception": false,
     "start_time": "2020-10-20T21:34:05.190320",
     "status": "completed"
    },
    "tags": [],
    "id": "QHon_T5sa-p_"
   },
   "source": "## 기술 통계 (Descriptive Statistics)"
  },
  {
   "metadata": {},
   "cell_type": "markdown",
   "source": [
    "### df_data.describe()\n",
    "- count: 데이터 갯수\n",
    "- mean: 평균\n",
    "- std: 표준편차\n",
    "- min: 최소값\n",
    "- 25%: 1사분위수\n",
    "- 50%: 중앙값\n",
    "- 75%: 3사분위수\n",
    "- max: 최대값"
   ]
  },
  {
   "cell_type": "code",
   "metadata": {
    "id": "Fh1-libjkJIK",
    "ExecuteTime": {
     "end_time": "2025-03-04T07:49:15.919175Z",
     "start_time": "2025-03-04T07:49:15.666954Z"
    }
   },
   "source": "df_data.describe()",
   "outputs": [
    {
     "data": {
      "text/plain": [
       "       Unnamed: 0    Price\n",
       "count    4,324.00 4,324.00\n",
       "mean     2,161.50    76.88\n",
       "std      1,248.38    72.70\n",
       "min          0.00     5.30\n",
       "25%      1,080.75    62.00\n",
       "50%      2,161.50    62.00\n",
       "75%      3,242.25    62.00\n",
       "max      4,323.00   450.00"
      ],
      "text/html": [
       "<div>\n",
       "<style scoped>\n",
       "    .dataframe tbody tr th:only-of-type {\n",
       "        vertical-align: middle;\n",
       "    }\n",
       "\n",
       "    .dataframe tbody tr th {\n",
       "        vertical-align: top;\n",
       "    }\n",
       "\n",
       "    .dataframe thead th {\n",
       "        text-align: right;\n",
       "    }\n",
       "</style>\n",
       "<table border=\"1\" class=\"dataframe\">\n",
       "  <thead>\n",
       "    <tr style=\"text-align: right;\">\n",
       "      <th></th>\n",
       "      <th>Unnamed: 0</th>\n",
       "      <th>Price</th>\n",
       "    </tr>\n",
       "  </thead>\n",
       "  <tbody>\n",
       "    <tr>\n",
       "      <th>count</th>\n",
       "      <td>4,324.00</td>\n",
       "      <td>4,324.00</td>\n",
       "    </tr>\n",
       "    <tr>\n",
       "      <th>mean</th>\n",
       "      <td>2,161.50</td>\n",
       "      <td>76.88</td>\n",
       "    </tr>\n",
       "    <tr>\n",
       "      <th>std</th>\n",
       "      <td>1,248.38</td>\n",
       "      <td>72.70</td>\n",
       "    </tr>\n",
       "    <tr>\n",
       "      <th>min</th>\n",
       "      <td>0.00</td>\n",
       "      <td>5.30</td>\n",
       "    </tr>\n",
       "    <tr>\n",
       "      <th>25%</th>\n",
       "      <td>1,080.75</td>\n",
       "      <td>62.00</td>\n",
       "    </tr>\n",
       "    <tr>\n",
       "      <th>50%</th>\n",
       "      <td>2,161.50</td>\n",
       "      <td>62.00</td>\n",
       "    </tr>\n",
       "    <tr>\n",
       "      <th>75%</th>\n",
       "      <td>3,242.25</td>\n",
       "      <td>62.00</td>\n",
       "    </tr>\n",
       "    <tr>\n",
       "      <th>max</th>\n",
       "      <td>4,323.00</td>\n",
       "      <td>450.00</td>\n",
       "    </tr>\n",
       "  </tbody>\n",
       "</table>\n",
       "</div>"
      ]
     },
     "execution_count": 41,
     "metadata": {},
     "output_type": "execute_result"
    }
   ],
   "execution_count": 41
  },
  {
   "metadata": {},
   "cell_type": "markdown",
   "source": "### df_data['Price'].describe() - 특정 열에 대한 기술통계"
  },
  {
   "cell_type": "code",
   "metadata": {
    "id": "dGZa5HdbkJBT",
    "ExecuteTime": {
     "end_time": "2025-03-04T07:50:47.937556Z",
     "start_time": "2025-03-04T07:50:47.900651Z"
    }
   },
   "source": "df_data['Price'].describe()",
   "outputs": [
    {
     "data": {
      "text/plain": [
       "count   4,324.00\n",
       "mean       76.88\n",
       "std        72.70\n",
       "min         5.30\n",
       "25%        62.00\n",
       "50%        62.00\n",
       "75%        62.00\n",
       "max       450.00\n",
       "Name: Price, dtype: float64"
      ]
     },
     "execution_count": 42,
     "metadata": {},
     "output_type": "execute_result"
    }
   ],
   "execution_count": 42
  },
  {
   "metadata": {},
   "cell_type": "markdown",
   "source": "### df_data['Organisation'].mode() - 최빈값 확인"
  },
  {
   "metadata": {
    "ExecuteTime": {
     "end_time": "2025-03-04T07:51:55.480257Z",
     "start_time": "2025-03-04T07:51:55.442106Z"
    }
   },
   "cell_type": "code",
   "source": "df_data['Organisation'].mode()",
   "outputs": [
    {
     "data": {
      "text/plain": [
       "0    RVSN USSR\n",
       "Name: Organisation, dtype: object"
      ]
     },
     "execution_count": 43,
     "metadata": {},
     "output_type": "execute_result"
    }
   ],
   "execution_count": 43
  },
  {
   "metadata": {},
   "cell_type": "markdown",
   "source": [
    "### df_data['Price'].var()- 분산\n",
    "### df_data['Price'].std()- 표준편차"
   ]
  },
  {
   "metadata": {
    "ExecuteTime": {
     "end_time": "2025-03-04T07:54:51.279341Z",
     "start_time": "2025-03-04T07:54:51.266202Z"
    }
   },
   "cell_type": "code",
   "source": "df_data['Price'].var()  # 분산",
   "outputs": [
    {
     "data": {
      "text/plain": [
       "np.float64(5285.664729091666)"
      ]
     },
     "execution_count": 45,
     "metadata": {},
     "output_type": "execute_result"
    }
   ],
   "execution_count": 45
  },
  {
   "metadata": {
    "ExecuteTime": {
     "end_time": "2025-03-04T07:54:56.849486Z",
     "start_time": "2025-03-04T07:54:56.840146Z"
    }
   },
   "cell_type": "code",
   "source": "df_data['Price'].std()  # 표준편차",
   "outputs": [
    {
     "data": {
      "text/plain": [
       "np.float64(72.70257718328605)"
      ]
     },
     "execution_count": 46,
     "metadata": {},
     "output_type": "execute_result"
    }
   ],
   "execution_count": 46
  },
  {
   "metadata": {},
   "cell_type": "markdown",
   "source": "- 분산이 5285.66이고 표준편차가 72.70으로 꽤 크므로, Price 값의 변동성이 크다는 것을 확인할 수 있음."
  },
  {
   "metadata": {},
   "cell_type": "markdown",
   "source": "### df_data['Price'].median() - 중앙값"
  },
  {
   "metadata": {
    "ExecuteTime": {
     "end_time": "2025-03-04T07:55:38.645159Z",
     "start_time": "2025-03-04T07:55:38.620420Z"
    }
   },
   "cell_type": "code",
   "source": "df_data['Price'].median()",
   "outputs": [
    {
     "data": {
      "text/plain": [
       "np.float64(62.0)"
      ]
     },
     "execution_count": 47,
     "metadata": {},
     "output_type": "execute_result"
    }
   ],
   "execution_count": 47
  },
  {
   "metadata": {},
   "cell_type": "markdown",
   "source": "- 중앙값이 62.0이므로, 데이터의 중위 값이 비교적 낮은 편임. → 평균과 비교하면 Price 값이 치우쳐 있는지(왜곡 여부)도 분석 가능."
  },
  {
   "metadata": {},
   "cell_type": "markdown",
   "source": [
    "### df_data['Price'].skew()  - 왜도 (데이터의 비대칭 정도)\n",
    "### df_data['Price'].kurt()  - 첨도 (분포의 뾰족한 정도)"
   ]
  },
  {
   "metadata": {
    "ExecuteTime": {
     "end_time": "2025-03-04T07:56:21.579637Z",
     "start_time": "2025-03-04T07:56:21.554411Z"
    }
   },
   "cell_type": "code",
   "source": "df_data['Price'].skew()",
   "outputs": [
    {
     "data": {
      "text/plain": [
       "np.float64(4.460606705103812)"
      ]
     },
     "execution_count": 48,
     "metadata": {},
     "output_type": "execute_result"
    }
   ],
   "execution_count": 48
  },
  {
   "metadata": {},
   "cell_type": "markdown",
   "source": [
    "### 왜도 (Skewness) 분석\n",
    "- 📌 결과값: 4.46\n",
    "- 📌 해석:\n",
    "\n",
    "    - 왜도는 데이터 분포의 비대칭 정도를 나타내는 지표입니다.\n",
    "    - 0이면 완전히 대칭적인 정규분포(평균을 중심으로 좌우 대칭)를 의미함.\n",
    "    - 양수(+) 값이면 오른쪽(우측)으로 치우친 분포 (오른쪽 꼬리가 김).\n",
    "    - 음수(-) 값이면 왼쪽(좌측)으로 치우친 분포 (왼쪽 꼬리가 김).\n",
    "\n",
    "- ✅ 결과 해석:\n",
    "\n",
    "    - 👉 4.46이라는 값은 상당히 높은 양수 값이므로, Price 데이터가 우측으로 크게 치우쳐 있다는 것을 의미합니다.\n",
    "    - 👉 즉, 소수의 높은 값(비싼 발사 비용)이 존재하여 전체 데이터를 끌어올리고 있을 가능성이 높다는 뜻입니다."
   ]
  },
  {
   "metadata": {
    "ExecuteTime": {
     "end_time": "2025-03-04T07:56:34.384256Z",
     "start_time": "2025-03-04T07:56:34.372026Z"
    }
   },
   "cell_type": "code",
   "source": "df_data['Price'].kurt()",
   "outputs": [
    {
     "data": {
      "text/plain": [
       "np.float64(19.539255901407653)"
      ]
     },
     "execution_count": 49,
     "metadata": {},
     "output_type": "execute_result"
    }
   ],
   "execution_count": 49
  },
  {
   "metadata": {},
   "cell_type": "markdown",
   "source": [
    "### 첨도 (Kurtosis) 분석\n",
    "- 📌 결과값: 19.53\n",
    "- 📌 해석:\n",
    "\n",
    "    - 첨도는 데이터 분포의 뾰족한 정도를 나타냅니다.\n",
    "    - 정규분포의 첨도는 3 (보통 표준 정규분포에서 Excess Kurtosis는 0).\n",
    "    - 값이 3보다 크면 급격한 첨도(Leptokurtic) → 중심에 데이터가 몰려 있고, 꼬리가 김.\n",
    "    - 값이 3보다 작으면 완만한 첨도(Platykurtic) → 데이터가 넓게 퍼져 있음.\n",
    "\n",
    "- ✅ 결과 해석:\n",
    "\n",
    "    - 👉 첨도가 19.53으로 매우 크므로, Price 데이터는 정규분포보다 훨씬 뾰족한 형태임.\n",
    "    - 👉 즉, 대부분의 값이 평균 근처에 밀집해 있지만, 극단적인 이상치(매우 비싼 가격)가 존재할 가능성이 크다.\n",
    "\n",
    "- 💡 정리\n",
    "    - 대부분의 로켓 발사 비용이 일정 범위 안에 있지만, 몇 개의 값이 너무 커서 분포가 뾰족하고 긴 꼬리를 형성하고 있음.\n",
    "    - 이상치를 제거하거나 로그 변환 등의 처리가 필요할 수도 있음.\n"
   ]
  },
  {
   "metadata": {},
   "cell_type": "markdown",
   "source": "### 이상치 탐색"
  },
  {
   "metadata": {
    "ExecuteTime": {
     "end_time": "2025-03-04T08:02:02.944431Z",
     "start_time": "2025-03-04T08:02:02.889723Z"
    }
   },
   "cell_type": "code",
   "source": [
    "Q1 = df_data['Price'].quantile(0.25)\n",
    "Q3 = df_data['Price'].quantile(0.75)\n",
    "IQR = Q3 - Q1\n",
    "lower_bound = Q1 - 1.5 * IQR\n",
    "upper_bound = Q3 + 1.5 * IQR\n",
    "\n",
    "df_outliers = df_data[(df_data['Price'] < lower_bound) | (df_data['Price'] > upper_bound)]\n",
    "print(df_outliers)"
   ],
   "outputs": [
    {
     "name": "stdout",
     "output_type": "stream",
     "text": [
      "      Unnamed: 0  Organisation  \\\n",
      "0              0        SpaceX   \n",
      "1              1          CASC   \n",
      "3              3     Roscosmos   \n",
      "4              4           ULA   \n",
      "5              5          CASC   \n",
      "...          ...           ...   \n",
      "3855        3855  US Air Force   \n",
      "3971        3971  US Air Force   \n",
      "3993        3993  US Air Force   \n",
      "4000        4000  US Air Force   \n",
      "4020        4020  US Air Force   \n",
      "\n",
      "                                               Location  \\\n",
      "0            LC-39A, Kennedy Space Center, Florida, USA   \n",
      "1     Site 9401 (SLS-2), Jiuquan Satellite Launch Ce...   \n",
      "3          Site 200/39, Baikonur Cosmodrome, Kazakhstan   \n",
      "4              SLC-41, Cape Canaveral AFS, Florida, USA   \n",
      "5          LC-9, Taiyuan Satellite Launch Center, China   \n",
      "...                                                 ...   \n",
      "3855            SLC-4W, Vandenberg AFB, California, USA   \n",
      "3971           SLC-20, Cape Canaveral AFS, Florida, USA   \n",
      "3993           SLC-20, Cape Canaveral AFS, Florida, USA   \n",
      "4000           SLC-20, Cape Canaveral AFS, Florida, USA   \n",
      "4020           SLC-20, Cape Canaveral AFS, Florida, USA   \n",
      "\n",
      "                            Date  \\\n",
      "0     Fri Aug 07, 2020 05:12 UTC   \n",
      "1     Thu Aug 06, 2020 04:01 UTC   \n",
      "3     Thu Jul 30, 2020 21:25 UTC   \n",
      "4     Thu Jul 30, 2020 11:50 UTC   \n",
      "5     Sat Jul 25, 2020 03:13 UTC   \n",
      "...                          ...   \n",
      "3855  Fri Jul 29, 1966 18:43 UTC   \n",
      "3971  Thu May 06, 1965 15:00 UTC   \n",
      "3993  Thu Feb 11, 1965 15:19 UTC   \n",
      "4000  Thu Dec 10, 1964 16:52 UTC   \n",
      "4020  Tue Sep 01, 1964 15:00 UTC   \n",
      "\n",
      "                                                 Detail  Rocket_Status  Price  \\\n",
      "0          Falcon 9 Block 5 | Starlink V1 L9 & BlackSky   StatusActive  50.00   \n",
      "1                   Long March 2D | Gaofen-9 04 & Q-SAT   StatusActive  29.75   \n",
      "3          Proton-M/Briz-M | Ekspress-80 & Ekspress-103   StatusActive  65.00   \n",
      "4                            Atlas V 541 | Perseverance   StatusActive 145.00   \n",
      "5     Long March 4B | Ziyuan-3 03, Apocalypse-10 & N...   StatusActive  64.68   \n",
      "...                                                 ...            ...    ...   \n",
      "3855                                  Titan IIIB | KH-8  StatusRetired  59.00   \n",
      "3971                         Titan IIIA | LES 2 & LCS 1  StatusRetired  63.23   \n",
      "3993                                 Titan IIIA | LES 1  StatusRetired  63.23   \n",
      "4000                           Titan IIIA | Transtage 2  StatusRetired  63.23   \n",
      "4020                           Titan IIIA | Transtage 1  StatusRetired  63.23   \n",
      "\n",
      "     Mission_Status  \n",
      "0           Success  \n",
      "1           Success  \n",
      "3           Success  \n",
      "4           Success  \n",
      "5           Success  \n",
      "...             ...  \n",
      "3855        Success  \n",
      "3971        Success  \n",
      "3993        Success  \n",
      "4000        Success  \n",
      "4020        Failure  \n",
      "\n",
      "[908 rows x 8 columns]\n"
     ]
    }
   ],
   "execution_count": 50
  },
  {
   "cell_type": "markdown",
   "metadata": {
    "id": "cgCjcpeUkKPW"
   },
   "source": [
    "# 회사별 우주 발사 횟수 (Number of Launches per Company)\n",
    "\n",
    "우주 임무를 수행하는 각 조직별 발사 횟수를 보여주는 차트"
   ]
  },
  {
   "cell_type": "code",
   "metadata": {
    "id": "rxvcIrtskxYB",
    "ExecuteTime": {
     "end_time": "2025-03-04T05:26:49.679437Z",
     "start_time": "2025-03-04T05:26:49.671773Z"
    }
   },
   "source": [
    ""
   ],
   "outputs": [],
   "execution_count": null
  },
  {
   "cell_type": "code",
   "metadata": {
    "id": "qgneHUbWkw5v",
    "ExecuteTime": {
     "end_time": "2025-03-04T05:26:49.895287Z",
     "start_time": "2025-03-04T05:26:49.887896Z"
    }
   },
   "source": [
    ""
   ],
   "outputs": [],
   "execution_count": null
  },
  {
   "cell_type": "markdown",
   "metadata": {
    "id": "7Gwteht2kR_h"
   },
   "source": [
    "# 활성 로켓과 퇴역한 로켓의 수 (Number of Active versus Retired Rockets)\n",
    "\n",
    "현재 운영 중인 로켓과 퇴역한 로켓의 개수를 비교"
   ]
  },
  {
   "cell_type": "code",
   "metadata": {
    "id": "SxmOWS9cmTq6",
    "ExecuteTime": {
     "end_time": "2025-03-04T05:26:50.013655Z",
     "start_time": "2025-03-04T05:26:50.006548Z"
    }
   },
   "source": [
    ""
   ],
   "outputs": [],
   "execution_count": null
  },
  {
   "cell_type": "code",
   "metadata": {
    "id": "ydj0-OZ6mToH",
    "ExecuteTime": {
     "end_time": "2025-03-04T05:26:50.112166Z",
     "start_time": "2025-03-04T05:26:50.107002Z"
    }
   },
   "source": [
    ""
   ],
   "outputs": [],
   "execution_count": null
  },
  {
   "cell_type": "markdown",
   "metadata": {
    "id": "y9WtP5xWkYkp"
   },
   "source": [
    "# 임무 상태 분포 (Distribution of Mission Status)\n",
    "\n",
    "성공한 임무 개수\n",
    "<br>\n",
    "실패한 임무 개수"
   ]
  },
  {
   "cell_type": "code",
   "metadata": {
    "id": "83kY1alqmUhb",
    "ExecuteTime": {
     "end_time": "2025-03-04T05:26:50.261038Z",
     "start_time": "2025-03-04T05:26:50.253214Z"
    }
   },
   "source": [
    ""
   ],
   "outputs": [],
   "execution_count": null
  },
  {
   "cell_type": "code",
   "metadata": {
    "id": "bdmXcaopmUeZ",
    "ExecuteTime": {
     "end_time": "2025-03-04T05:26:50.378487Z",
     "start_time": "2025-03-04T05:26:50.372413Z"
    }
   },
   "source": [
    ""
   ],
   "outputs": [],
   "execution_count": null
  },
  {
   "cell_type": "markdown",
   "metadata": {
    "papermill": {
     "duration": 0.03854,
     "end_time": "2020-10-20T21:34:05.968626",
     "exception": false,
     "start_time": "2020-10-20T21:34:05.930086",
     "status": "completed"
    },
    "tags": [],
    "id": "jgTCihuoa-qH"
   },
   "source": [
    "# 발사 비용 분석 (How Expensive are the Launches?)\n",
    "\n",
    "히스토그램을 생성하여 비용 분포를 시각화. (가격 데이터는 USD(백만 단위)로 제공되며, 결측치가 있는지 주의)"
   ]
  },
  {
   "cell_type": "code",
   "metadata": {
    "id": "PLOMhzZFnSCO",
    "ExecuteTime": {
     "end_time": "2025-03-04T05:26:50.448193Z",
     "start_time": "2025-03-04T05:26:50.439227Z"
    }
   },
   "source": [
    ""
   ],
   "outputs": [],
   "execution_count": null
  },
  {
   "cell_type": "code",
   "metadata": {
    "id": "ru0IcY4nnSFU",
    "ExecuteTime": {
     "end_time": "2025-03-04T05:26:50.541732Z",
     "start_time": "2025-03-04T05:26:50.532338Z"
    }
   },
   "source": [
    ""
   ],
   "outputs": [],
   "execution_count": null
  },
  {
   "cell_type": "markdown",
   "metadata": {
    "id": "QiNtigQDne3E"
   },
   "source": [
    "# 국가별 발사 횟수를 보여주는 단계구분도(Choropleth Map) 생성\n",
    "\n",
    "*  [the plotly documentation](https://plotly.com/python/choropleth-maps/) 참고하여 단계구분도를 생성\n",
    "* [plotly's available colours](https://plotly.com/python/builtin-colorscales/)을 실험. 지도에서는 연속적인 색상을 사용.\n",
    "* `country` 데이터를 추출하고, 존재하지 않는 국가명을 적절히 변경\n",
    "\n",
    "국가명 정리 (Wrangle the Country Names)\n",
    "\n",
    "각 국가를 3자리 국가 코드(Alpha-3) 형식으로 변환. 일부 국가명은 직접 변경\n",
    "\n",
    "- Russia → 러시아 연방 (Russian Federation)\n",
    "- 뉴멕시코 → 미국 (USA)\n",
    "- Yellow Sea → 중국 (China)\n",
    "- Shahrud Missile Test Site → 이란 (Iran)\n",
    "- Pacific Missile Range Facility → 미국 (USA)\n",
    "- Barents Sea → 러시아 연방 (Russian Federation)\n",
    "- Gran Canaria → 미국 (USA)\n",
    "\n",
    "\n",
    "\n",
    "ISO 3166 패키지를 사용하여 국가명을 Alpha-3 형식으로 변환."
   ]
  },
  {
   "cell_type": "code",
   "metadata": {
    "id": "Y46-4GHrozhF",
    "ExecuteTime": {
     "end_time": "2025-03-04T05:26:50.653831Z",
     "start_time": "2025-03-04T05:26:50.645394Z"
    }
   },
   "source": [
    ""
   ],
   "outputs": [],
   "execution_count": null
  },
  {
   "cell_type": "code",
   "metadata": {
    "id": "ESGRWiX6ozZG",
    "ExecuteTime": {
     "end_time": "2025-03-04T05:26:50.804229Z",
     "start_time": "2025-03-04T05:26:50.797074Z"
    }
   },
   "source": [
    ""
   ],
   "outputs": [],
   "execution_count": null
  },
  {
   "cell_type": "markdown",
   "metadata": {
    "id": "F3pwYSUlo_AK"
   },
   "source": "# 국가별 발사 실패 횟수를 단계구분도로 표시 (Use a Choropleth Map to Show the Number of Failures by Country)\n"
  },
  {
   "cell_type": "code",
   "metadata": {
    "id": "8BH4ICtro9I0",
    "ExecuteTime": {
     "end_time": "2025-03-04T05:26:50.945998Z",
     "start_time": "2025-03-04T05:26:50.936258Z"
    }
   },
   "source": [
    ""
   ],
   "outputs": [],
   "execution_count": null
  },
  {
   "cell_type": "code",
   "metadata": {
    "id": "sfw-q7Obo9GM",
    "ExecuteTime": {
     "end_time": "2025-03-04T05:26:51.148157Z",
     "start_time": "2025-03-04T05:26:51.140113Z"
    }
   },
   "source": [
    ""
   ],
   "outputs": [],
   "execution_count": null
  },
  {
   "cell_type": "markdown",
   "metadata": {
    "papermill": {
     "duration": 0.039343,
     "end_time": "2020-10-20T21:34:06.591694",
     "exception": false,
     "start_time": "2020-10-20T21:34:06.552351",
     "status": "completed"
    },
    "tags": [],
    "id": "9LqcqSrKa-qN"
   },
   "source": "# 국가, 조직 및 임무 상태에 대한 Plotly Sunburst 차트 생성 (Create a Plotly Sunburst Chart of the countries, organisations, and mission status.)"
  },
  {
   "cell_type": "code",
   "metadata": {
    "id": "MwUfpoByo3_J",
    "ExecuteTime": {
     "end_time": "2025-03-04T05:26:51.316122Z",
     "start_time": "2025-03-04T05:26:51.308672Z"
    }
   },
   "source": [
    ""
   ],
   "outputs": [],
   "execution_count": null
  },
  {
   "cell_type": "code",
   "metadata": {
    "id": "-ZwZkx1ro4X9",
    "ExecuteTime": {
     "end_time": "2025-03-04T05:26:51.438597Z",
     "start_time": "2025-03-04T05:26:51.431743Z"
    }
   },
   "source": [
    ""
   ],
   "outputs": [],
   "execution_count": null
  },
  {
   "cell_type": "code",
   "metadata": {
    "id": "VfTGp2hLo4Ok",
    "ExecuteTime": {
     "end_time": "2025-03-04T05:26:51.595843Z",
     "start_time": "2025-03-04T05:26:51.588435Z"
    }
   },
   "source": [
    ""
   ],
   "outputs": [],
   "execution_count": null
  },
  {
   "cell_type": "markdown",
   "metadata": {
    "papermill": {
     "duration": 0.062712,
     "end_time": "2020-10-20T21:34:07.951200",
     "exception": false,
     "start_time": "2020-10-20T21:34:07.888488",
     "status": "completed"
    },
    "tags": [],
    "id": "70pG1BCZa-qY"
   },
   "source": "# 조직별 우주 임무 비용 총액 분석 (Analyse the Total Amount of Money Spent by Organisation on Space Missions)"
  },
  {
   "cell_type": "code",
   "metadata": {
    "id": "IaJYxwEVpKHy",
    "ExecuteTime": {
     "end_time": "2025-03-04T05:26:51.676097Z",
     "start_time": "2025-03-04T05:26:51.668478Z"
    }
   },
   "source": [
    ""
   ],
   "outputs": [],
   "execution_count": null
  },
  {
   "cell_type": "code",
   "metadata": {
    "id": "orIFf-appPDL",
    "ExecuteTime": {
     "end_time": "2025-03-04T05:26:51.731364Z",
     "start_time": "2025-03-04T05:26:51.724181Z"
    }
   },
   "source": [
    ""
   ],
   "outputs": [],
   "execution_count": null
  },
  {
   "cell_type": "code",
   "metadata": {
    "id": "86OMPfpEpO7R",
    "ExecuteTime": {
     "end_time": "2025-03-04T05:26:51.784114Z",
     "start_time": "2025-03-04T05:26:51.776751Z"
    }
   },
   "source": [
    ""
   ],
   "outputs": [],
   "execution_count": null
  },
  {
   "cell_type": "markdown",
   "metadata": {
    "id": "DpsWkPxzpPXs"
   },
   "source": "# 조직별 발사당 평균 비용 분석 (Analyse the Amount of Money Spent by Organisation per Launch)"
  },
  {
   "cell_type": "code",
   "metadata": {
    "id": "opYJ6GiRpTk5",
    "ExecuteTime": {
     "end_time": "2025-03-04T05:26:51.951130Z",
     "start_time": "2025-03-04T05:26:51.943794Z"
    }
   },
   "source": [
    ""
   ],
   "outputs": [],
   "execution_count": null
  },
  {
   "cell_type": "code",
   "metadata": {
    "id": "VEkHzAk2pTvj",
    "ExecuteTime": {
     "end_time": "2025-03-04T05:26:52.081121Z",
     "start_time": "2025-03-04T05:26:52.072424Z"
    }
   },
   "source": [
    ""
   ],
   "outputs": [],
   "execution_count": null
  },
  {
   "cell_type": "code",
   "metadata": {
    "id": "R5rFf501pKXD",
    "ExecuteTime": {
     "end_time": "2025-03-04T05:26:52.162334Z",
     "start_time": "2025-03-04T05:26:52.155040Z"
    }
   },
   "source": [
    ""
   ],
   "outputs": [],
   "execution_count": null
  },
  {
   "cell_type": "markdown",
   "metadata": {
    "papermill": {
     "duration": 0.042662,
     "end_time": "2020-10-20T21:34:09.943196",
     "exception": false,
     "start_time": "2020-10-20T21:34:09.900534",
     "status": "completed"
    },
    "tags": [],
    "id": "yRa1BbPoa-qf"
   },
   "source": "# 연도별 우주 발사 횟수 차트 (Chart the Number of Launches per Year)"
  },
  {
   "cell_type": "code",
   "metadata": {
    "id": "_9FohVh3pcAJ",
    "ExecuteTime": {
     "end_time": "2025-03-04T05:26:52.242788Z",
     "start_time": "2025-03-04T05:26:52.235782Z"
    }
   },
   "source": [
    ""
   ],
   "outputs": [],
   "execution_count": null
  },
  {
   "cell_type": "code",
   "metadata": {
    "id": "b2pggcZBpb4x",
    "ExecuteTime": {
     "end_time": "2025-03-04T05:26:52.335678Z",
     "start_time": "2025-03-04T05:26:52.329679Z"
    }
   },
   "source": [
    ""
   ],
   "outputs": [],
   "execution_count": null
  },
  {
   "cell_type": "markdown",
   "metadata": {
    "id": "NomJVLi3tIaM"
   },
   "source": [
    "# 월별 우주 발사 횟수 차트 (현재까지) (Chart the Number of Launches Month-on-Month until the Present)\n",
    "\n",
    "어느 달에 가장 많은 발사가 이루어졌는가? 월별 시계열 차트에 이동 평균을 적용\n",
    "(Which month has seen the highest number of launches in all time? Superimpose a rolling average on the month on month time series chart.)"
   ]
  },
  {
   "cell_type": "code",
   "metadata": {
    "id": "H1N2aBs5tH9z",
    "ExecuteTime": {
     "end_time": "2025-03-04T05:26:52.436599Z",
     "start_time": "2025-03-04T05:26:52.429807Z"
    }
   },
   "source": [
    ""
   ],
   "outputs": [],
   "execution_count": null
  },
  {
   "cell_type": "code",
   "metadata": {
    "id": "pfw0aX1lpdRv",
    "ExecuteTime": {
     "end_time": "2025-03-04T05:26:52.562577Z",
     "start_time": "2025-03-04T05:26:52.556429Z"
    }
   },
   "source": [
    ""
   ],
   "outputs": [],
   "execution_count": null
  },
  {
   "cell_type": "markdown",
   "metadata": {
    "papermill": {
     "duration": 0.044409,
     "end_time": "2020-10-20T21:34:10.162592",
     "exception": false,
     "start_time": "2020-10-20T21:34:10.118183",
     "status": "completed"
    },
    "tags": [],
    "id": "t-avMIZoa-qh"
   },
   "source": [
    "# 월별 발사 횟수: 가장 많은 발사가 이루어진 달과 적은 발사가 이루어진 달은? (Launches per Month: Which months are most popular and least popular for launches?)\n",
    "일부 달은 기상 조건이 더 유리할수도 있음.\n",
    "<br>\n",
    "우주 임무를 수행하기 가장 적절한 시기는 언제 인지 파악\n",
    "<br>\n",
    "Some months have better weather than others. Which time of year seems to be best for space missions?"
   ]
  },
  {
   "cell_type": "code",
   "metadata": {
    "id": "zmtp5uBHppFG",
    "ExecuteTime": {
     "end_time": "2025-03-04T05:26:52.626126Z",
     "start_time": "2025-03-04T05:26:52.621012Z"
    }
   },
   "source": [
    ""
   ],
   "outputs": [],
   "execution_count": null
  },
  {
   "cell_type": "code",
   "metadata": {
    "id": "fnk2m_cpppJo",
    "ExecuteTime": {
     "end_time": "2025-03-04T05:26:52.721378Z",
     "start_time": "2025-03-04T05:26:52.714961Z"
    }
   },
   "source": [
    ""
   ],
   "outputs": [],
   "execution_count": null
  },
  {
   "cell_type": "markdown",
   "metadata": {
    "papermill": {
     "duration": 0.067915,
     "end_time": "2020-10-20T21:34:11.122539",
     "exception": false,
     "start_time": "2020-10-20T21:34:11.054624",
     "status": "completed"
    },
    "tags": [],
    "id": "dPQ_N_sfa-qo"
   },
   "source": [
    "# 발사 비용의 시간에 따른 변화 (How has the Launch Price varied Over Time?)\n",
    "시간에 따른 로켓 발사 평균 비용을 나타내는 선 그래프를 생성\n",
    "(Create a line chart that shows the average price of rocket launches over time.)"
   ]
  },
  {
   "cell_type": "code",
   "metadata": {
    "id": "hFc-2M5-qCrv",
    "ExecuteTime": {
     "end_time": "2025-03-04T05:26:52.811576Z",
     "start_time": "2025-03-04T05:26:52.804695Z"
    }
   },
   "source": [
    ""
   ],
   "outputs": [],
   "execution_count": null
  },
  {
   "cell_type": "code",
   "metadata": {
    "id": "ggYFiAsEqC6J",
    "ExecuteTime": {
     "end_time": "2025-03-04T05:26:52.854051Z",
     "start_time": "2025-03-04T05:26:52.847143Z"
    }
   },
   "source": [
    ""
   ],
   "outputs": [],
   "execution_count": null
  },
  {
   "cell_type": "markdown",
   "metadata": {
    "papermill": {
     "duration": 0.047152,
     "end_time": "2020-10-20T21:34:11.681371",
     "exception": false,
     "start_time": "2020-10-20T21:34:11.634219",
     "status": "completed"
    },
    "tags": [],
    "id": "8OYrWyiOa-qs"
   },
   "source": [
    "# 상위 10개 조직별 연도별 발사 횟수 차트 (Chart the Number of Launches over Time by the Top 10 Organisations.)\n",
    "시간이 지나면서 각 조직의 발사 횟수 점유율이 어떻게 변했는지 확인\n",
    "(How has the dominance of launches changed over time between the different players?)"
   ]
  },
  {
   "cell_type": "code",
   "metadata": {
    "id": "RcsrPPpAqVFj",
    "ExecuteTime": {
     "end_time": "2025-03-04T05:26:52.916336Z",
     "start_time": "2025-03-04T05:26:52.909726Z"
    }
   },
   "source": [
    ""
   ],
   "outputs": [],
   "execution_count": null
  },
  {
   "cell_type": "code",
   "metadata": {
    "id": "1IgfafiyqWEe",
    "ExecuteTime": {
     "end_time": "2025-03-04T05:26:52.975047Z",
     "start_time": "2025-03-04T05:26:52.967989Z"
    }
   },
   "source": [
    ""
   ],
   "outputs": [],
   "execution_count": null
  },
  {
   "cell_type": "code",
   "metadata": {
    "id": "akCDKT8CqVjG",
    "ExecuteTime": {
     "end_time": "2025-03-04T05:26:53.119961Z",
     "start_time": "2025-03-04T05:26:53.113372Z"
    }
   },
   "source": [
    ""
   ],
   "outputs": [],
   "execution_count": null
  },
  {
   "cell_type": "markdown",
   "metadata": {
    "papermill": {
     "duration": 0.052399,
     "end_time": "2020-10-20T21:34:13.756781",
     "exception": false,
     "start_time": "2020-10-20T21:34:13.704382",
     "status": "completed"
    },
    "tags": [],
    "id": "6Cm8_ch6a-q7"
   },
   "source": [
    "# 냉전 시대 우주 경쟁: 미국 vs 소련 (Cold War Space Race: USA vs USSR)\n",
    "이 데이터셋이 시작된 시점부터 1991년까지 냉전이 지속 (The cold war lasted from the start of the dataset up until 1991.)"
   ]
  },
  {
   "cell_type": "code",
   "metadata": {
    "id": "AcE_U8csrICL",
    "ExecuteTime": {
     "end_time": "2025-03-04T05:26:53.188855Z",
     "start_time": "2025-03-04T05:26:53.181709Z"
    }
   },
   "source": [
    ""
   ],
   "outputs": [],
   "execution_count": null
  },
  {
   "cell_type": "code",
   "metadata": {
    "id": "cOe_t4OmrHr9",
    "ExecuteTime": {
     "end_time": "2025-03-04T05:26:53.284016Z",
     "start_time": "2025-03-04T05:26:53.276307Z"
    }
   },
   "source": [
    ""
   ],
   "outputs": [],
   "execution_count": null
  },
  {
   "cell_type": "markdown",
   "metadata": {
    "papermill": {
     "duration": 0.054318,
     "end_time": "2020-10-20T21:34:14.089604",
     "exception": false,
     "start_time": "2020-10-20T21:34:14.035286",
     "status": "completed"
    },
    "tags": [],
    "id": "Os-3A5vLa-q9"
   },
   "source": [
    "## 미국과 소련(USSR)의 총 발사 횟수를 비교하는 Plotly 원형 차트 생성 (Create a Plotly Pie Chart comparing the total number of launches of the USSR and the USA)\n",
    "\n",
    "총 발사 횟수를 분석할 때 카자흐스탄과 같은 구소련 국가들도 포함\n",
    "(Hint: Remember to include former Soviet Republics like Kazakhstan when analysing the total number of launches. )"
   ]
  },
  {
   "cell_type": "code",
   "metadata": {
    "id": "1irc6_W9rD59",
    "ExecuteTime": {
     "end_time": "2025-03-04T05:26:53.391588Z",
     "start_time": "2025-03-04T05:26:53.385143Z"
    }
   },
   "source": [
    ""
   ],
   "outputs": [],
   "execution_count": null
  },
  {
   "cell_type": "code",
   "metadata": {
    "id": "OhhuLQycrEE-",
    "ExecuteTime": {
     "end_time": "2025-03-04T05:26:53.482520Z",
     "start_time": "2025-03-04T05:26:53.474512Z"
    }
   },
   "source": [
    ""
   ],
   "outputs": [],
   "execution_count": null
  },
  {
   "cell_type": "markdown",
   "metadata": {
    "papermill": {
     "duration": 0.052921,
     "end_time": "2020-10-20T21:34:14.340085",
     "exception": false,
     "start_time": "2020-10-20T21:34:14.287164",
     "status": "completed"
    },
    "tags": [],
    "id": "0C29Zz4xa-rA"
   },
   "source": "## 두 초강대국(미국과 소련)의 연도별 총 발사 횟수를 나타내는 차트 생성 (Create a Chart that Shows the Total Number of Launches Year-On-Year by the Two Superpowers)"
  },
  {
   "cell_type": "code",
   "metadata": {
    "id": "9ISKvOiCrS73",
    "ExecuteTime": {
     "end_time": "2025-03-04T05:26:53.554900Z",
     "start_time": "2025-03-04T05:26:53.548365Z"
    }
   },
   "source": [
    ""
   ],
   "outputs": [],
   "execution_count": null
  },
  {
   "cell_type": "code",
   "metadata": {
    "id": "oCc7VTzGrTK-",
    "ExecuteTime": {
     "end_time": "2025-03-04T05:26:53.632604Z",
     "start_time": "2025-03-04T05:26:53.625040Z"
    }
   },
   "source": [
    ""
   ],
   "outputs": [],
   "execution_count": null
  },
  {
   "cell_type": "markdown",
   "metadata": {
    "papermill": {
     "duration": 0.079311,
     "end_time": "2020-10-20T21:34:14.933058",
     "exception": false,
     "start_time": "2020-10-20T21:34:14.853747",
     "status": "completed"
    },
    "tags": [],
    "id": "eWv4iZmra-rE"
   },
   "source": "## 연도별 임무 실패 총 횟수 차트 (Chart the Total Number of Mission Failures Year on Year.)"
  },
  {
   "cell_type": "code",
   "metadata": {
    "id": "I-Zss5-Mre-4",
    "ExecuteTime": {
     "end_time": "2025-03-04T05:26:53.700502Z",
     "start_time": "2025-03-04T05:26:53.693549Z"
    }
   },
   "source": [
    ""
   ],
   "outputs": [],
   "execution_count": null
  },
  {
   "cell_type": "code",
   "metadata": {
    "id": "7Ps9Iq_crfYl",
    "ExecuteTime": {
     "end_time": "2025-03-04T05:26:53.766176Z",
     "start_time": "2025-03-04T05:26:53.758387Z"
    }
   },
   "source": [
    ""
   ],
   "outputs": [],
   "execution_count": null
  },
  {
   "cell_type": "markdown",
   "metadata": {
    "id": "XNp-NkrJriEF"
   },
   "source": [
    "## 시간에 따른 실패율 차트 (Chart the Percentage of Failures over Time)\n",
    "실패율이 증가했는가, 감소했는가? 시간이 지남에 따라 각국은 위험을 줄이고 성공 확률을 높이는 데 성공했는가?\n",
    "(Did failures go up or down over time? Did the countries get better at minimising risk and improving their chances of success over time?)"
   ]
  },
  {
   "cell_type": "code",
   "metadata": {
    "id": "Kj3-zsI0rhOS",
    "ExecuteTime": {
     "end_time": "2025-03-04T05:26:53.842293Z",
     "start_time": "2025-03-04T05:26:53.836672Z"
    }
   },
   "source": [
    ""
   ],
   "outputs": [],
   "execution_count": null
  },
  {
   "cell_type": "code",
   "metadata": {
    "id": "nxnnzx89rwvH",
    "ExecuteTime": {
     "end_time": "2025-03-04T05:26:53.876969Z",
     "start_time": "2025-03-04T05:26:53.871752Z"
    }
   },
   "source": [
    ""
   ],
   "outputs": [],
   "execution_count": null
  },
  {
   "cell_type": "code",
   "metadata": {
    "id": "_TPWaaJ5r1Fz",
    "ExecuteTime": {
     "end_time": "2025-03-04T05:26:53.911861Z",
     "start_time": "2025-03-04T05:26:53.906125Z"
    }
   },
   "source": [
    ""
   ],
   "outputs": [],
   "execution_count": null
  },
  {
   "cell_type": "markdown",
   "metadata": {
    "id": "S5aOC7bGr2OX"
   },
   "source": [
    "# 각 연도별 총 발사 횟수를 기준으로 어느 나라가 선두였는지 확인 (2020년까지 포함) (For Every Year Show which Country was in the Lead in terms of Total Number of Launches up to and including including 2020))\n",
    "\n",
    "성공적인 발사만 고려하면 결과가 달라지는가?\n",
    "<br>\n",
    "Do the results change if we only look at the number of successful launches? "
   ]
  },
  {
   "cell_type": "code",
   "metadata": {
    "id": "_h0grIXKsOz_",
    "ExecuteTime": {
     "end_time": "2025-03-04T05:26:53.962316Z",
     "start_time": "2025-03-04T05:26:53.956443Z"
    }
   },
   "source": [
    ""
   ],
   "outputs": [],
   "execution_count": null
  },
  {
   "cell_type": "code",
   "metadata": {
    "id": "zgVysedmsOp4",
    "ExecuteTime": {
     "end_time": "2025-03-04T05:26:54.010794Z",
     "start_time": "2025-03-04T05:26:54.005412Z"
    }
   },
   "source": [
    ""
   ],
   "outputs": [],
   "execution_count": null
  },
  {
   "cell_type": "markdown",
   "metadata": {
    "id": "jQcqBfJ8serG"
   },
   "source": [
    "# 연도별 가장 많은 발사를 수행한 조직을 나타내는 차트 생성 (Create a Year-on-Year Chart Showing the Organisation Doing the Most Number of Launches)\n",
    "1970년대와 1980년대에는 어떤 조직이 우세했나?\n",
    "<br>\n",
    "2018년, 2019년, 2020년에는 어떤 조직이 가장 많은 발사를 수행했나?\n",
    "<br>\n",
    "Which organisation was dominant in the 1970s and 1980s? Which organisation was dominant in 2018, 2019 and 2020? "
   ]
  },
  {
   "cell_type": "code",
   "metadata": {
    "id": "jc9ImQEWsztG",
    "ExecuteTime": {
     "end_time": "2025-03-04T05:26:54.090288Z",
     "start_time": "2025-03-04T05:26:54.085436Z"
    }
   },
   "source": [
    ""
   ],
   "outputs": [],
   "execution_count": null
  },
  {
   "cell_type": "code",
   "metadata": {
    "id": "r5frxzwlsz5W",
    "ExecuteTime": {
     "end_time": "2025-03-04T05:26:54.162496Z",
     "start_time": "2025-03-04T05:26:54.157705Z"
    }
   },
   "source": [
    ""
   ],
   "outputs": [],
   "execution_count": null
  },
  {
   "cell_type": "code",
   "metadata": {
    "papermill": {
     "duration": 0.092403,
     "end_time": "2020-10-20T21:34:26.709168",
     "exception": false,
     "start_time": "2020-10-20T21:34:26.616765",
     "status": "completed"
    },
    "tags": [],
    "id": "8vHKpuc5a-rc",
    "ExecuteTime": {
     "end_time": "2025-03-04T05:26:54.232731Z",
     "start_time": "2025-03-04T05:26:54.226993Z"
    }
   },
   "source": [
    ""
   ],
   "outputs": [],
   "execution_count": null
  }
 ]
}
